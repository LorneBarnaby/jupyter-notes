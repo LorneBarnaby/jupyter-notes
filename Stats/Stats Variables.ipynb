{
 "cells": [
  {
   "cell_type": "markdown",
   "metadata": {},
   "source": [
    "# Types of variables"
   ]
  },
  {
   "cell_type": "markdown",
   "metadata": {},
   "source": [
    "## numerical data\n",
    "https://mathbitsnotebook.com/Algebra1/FunctionGraphs/FNGContinuousDiscrete.html"
   ]
  },
  {
   "cell_type": "markdown",
   "metadata": {},
   "source": [
    "### continuous\n",
    "continuous values can take on any value within a finite or infinite interval\n"
   ]
  },
  {
   "cell_type": "code",
   "execution_count": 13,
   "metadata": {},
   "outputs": [],
   "source": [
    "examples = {\n",
    "    'my height' : 1.7,\n",
    "    'room temperature' : 21.0\n",
    "}\n",
    "# usually requires a measuring device, such as clock or thermometer"
   ]
  },
  {
   "cell_type": "markdown",
   "metadata": {},
   "source": [
    "### discrete\n",
    "A set of data is said to be discrete :\n",
    "if the values belonging to the set are distinct and separate\n"
   ]
  },
  {
   "cell_type": "code",
   "execution_count": 14,
   "metadata": {},
   "outputs": [],
   "source": [
    "examples = {\n",
    "    'people in the room' : 24,\n",
    "    'questions on a maths test' : 50\n",
    "}\n",
    "\n",
    "# discrete data is counted \n",
    "# description usually preceded by the words \"the number of\""
   ]
  },
  {
   "cell_type": "markdown",
   "metadata": {},
   "source": [
    "## categorical data\n",
    "\n",
    "https://www.formpl.us/blog/nominal-ordinal-data"
   ]
  },
  {
   "cell_type": "markdown",
   "metadata": {},
   "source": [
    "### nominal\n",
    "Nominal data is defined as data that is used for naming or labelling variables, without any quantitative value. It is sometimes called “named” data - a meaning coined from the word nominal."
   ]
  },
  {
   "cell_type": "code",
   "execution_count": 15,
   "metadata": {},
   "outputs": [],
   "source": [
    "examples = {\n",
    "    'country of birth' : [\n",
    "        'scotland',\n",
    "        'england',\n",
    "        'wales',\n",
    "        'ireland',\n",
    "        'france'     \n",
    "    ]\n",
    "}\n",
    "# categrorical data with no specific way to order them"
   ]
  },
  {
   "cell_type": "markdown",
   "metadata": {},
   "source": [
    "### ordinal\n",
    "Ordinal data is a type of categorical data with an order. The variables in ordinal data are listed in an ordered manner. The ordinal variables are usually numbered, so as to indicate the order of the list. However, the numbers are not mathematically measured or determined but are merely assigned as labels for opinions."
   ]
  },
  {
   "cell_type": "code",
   "execution_count": 16,
   "metadata": {},
   "outputs": [],
   "source": [
    "examples = {\n",
    "    'months' : {\n",
    "        1 :'jan',\n",
    "        2 :'feb',\n",
    "        3 :'mar',\n",
    "        4 :'apr',\n",
    "        5 :'may'\n",
    "        '...'\n",
    "    }\n",
    "}\n",
    "# listed in an ordered manner, usually numberered indicating the order of the list\n",
    "# numbers not be mathematically measured but are assigned as labels for opinions"
   ]
  },
  {
   "cell_type": "code",
   "execution_count": null,
   "metadata": {},
   "outputs": [],
   "source": []
  }
 ],
 "metadata": {
  "kernelspec": {
   "display_name": "Python 3",
   "language": "python",
   "name": "python3"
  },
  "language_info": {
   "codemirror_mode": {
    "name": "ipython",
    "version": 3
   },
   "file_extension": ".py",
   "mimetype": "text/x-python",
   "name": "python",
   "nbconvert_exporter": "python",
   "pygments_lexer": "ipython3",
   "version": "3.6.5"
  }
 },
 "nbformat": 4,
 "nbformat_minor": 2
}
